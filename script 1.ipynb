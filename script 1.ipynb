{
 "cells": [
  {
   "cell_type": "code",
   "execution_count": 1,
   "id": "b31d6fa7",
   "metadata": {},
   "outputs": [
    {
     "name": "stdout",
     "output_type": "stream",
     "text": [
      "An error occurred: 401\n"
     ]
    }
   ],
   "source": [
    "\n",
    "import requests\n",
    "import csv\n",
    "\n",
    "endpoint = \"https://api.linkedin.com/v2/people\"\n",
    "token = \"\"\n",
    "\n",
    "# Define the query parameters\n",
    "params = {\n",
    "    \"q\": \"name\",\n",
    "    \"firstName\": \"\", # The first name of the user to search for\n",
    "    \"lastName\": \"\", # The last name of the user to search for\n",
    "    \"count\": 5, # The number of results to return\n",
    "    \"fields\": \"firstName,lastName\" # The fields to return\n",
    "}\n",
    "\n",
    "headers = {\n",
    "    \"Authorization\": f\"Bearer {token}\"\n",
    "}\n",
    "\n",
    "response = requests.get(endpoint, params=params, headers=headers)\n",
    "\n"
   ]
  },
  {
   "cell_type": "code",
   "execution_count": null,
   "id": "27174d8e",
   "metadata": {},
   "outputs": [],
   "source": [
    "if response.status_code == 200:\n",
    "    # Parse the response as JSON\n",
    "    data = response.json()\n",
    "\n",
    "    # Create a list to store the results\n",
    "    results = []\n",
    "\n",
    "    # Loop through the elements in the response\n",
    "    for element in data[\"elements\"]:\n",
    "        # Get the first name and last name of the user\n",
    "        first_name = element[\"firstName\"][\"localized\"][\"en_US\"]\n",
    "        last_name = element[\"lastName\"][\"localized\"][\"en_US\"]\n",
    "\n",
    "        results.append([first_name, last_name])\n",
    "\n",
    "    # Create a CSV file to store the results\n",
    "    with open(\"results.csv\", \"w\", newline=\"\") as file:\n",
    "        # Create a CSV writer object\n",
    "        writer = csv.writer(file)\n",
    "\n",
    "        # Write the header row\n",
    "        writer.writerow([\"First Name\", \"Last Name\"])\n",
    "\n",
    "        # Write the results rows\n",
    "        writer.writerows(results)\n",
    "\n",
    "    # Print a success message\n",
    "    print(\"The results have been saved in results.csv\")\n",
    "\n",
    "else:\n",
    "    print(f\"An error occurred: {response.status_code}\")\n"
   ]
  }
 ],
 "metadata": {
  "kernelspec": {
   "display_name": "Python 3 (ipykernel)",
   "language": "python",
   "name": "python3"
  },
  "language_info": {
   "codemirror_mode": {
    "name": "ipython",
    "version": 3
   },
   "file_extension": ".py",
   "mimetype": "text/x-python",
   "name": "python",
   "nbconvert_exporter": "python",
   "pygments_lexer": "ipython3",
   "version": "3.9.12"
  }
 },
 "nbformat": 4,
 "nbformat_minor": 5
}
