{
 "cells": [
  {
   "cell_type": "code",
   "execution_count": null,
   "id": "5a8e7ae5",
   "metadata": {},
   "outputs": [],
   "source": [
    "# Import the required modules\n",
    "from selenium import webdriver\n",
    "from selenium.webdriver.common.keys import Keys\n",
    "from bs4 import BeautifulSoup\n",
    "import csv\n",
    "import time\n",
    "\n",
    "url = \"https://www.linkedin.com/\"\n",
    "email = \"YOUR_EMAIL_HERE\"\n",
    "password = \"YOUR_PASSWORD_HERE\"\n",
    "\n",
    "first_name = \"\" # The first name of the user to search for\n",
    "last_name = \"\" # The last name of the user to search for\n",
    "\n",
    "# Create a Chrome driver object\n",
    "driver = webdriver.Chrome()\n",
    "\n",
    "# Open the URL in the browser\n",
    "driver.get(url)\n",
    "\n",
    "# Wait for the page to load\n",
    "time.sleep(5)\n",
    "\n"
   ]
  },
  {
   "cell_type": "code",
   "execution_count": null,
   "id": "4c776d5f",
   "metadata": {},
   "outputs": [],
   "source": []
  },
  {
   "cell_type": "code",
   "execution_count": null,
   "id": "7f20335e",
   "metadata": {},
   "outputs": [],
   "source": []
  },
  {
   "cell_type": "code",
   "execution_count": null,
   "id": "1d0946f3",
   "metadata": {},
   "outputs": [],
   "source": [
    "# Find the email input element and enter the email\n",
    "email_input = driver.find_element_by_id(\"session_key\")\n",
    "email_input.send_keys(email)\n",
    "\n",
    "# Find the password input element and enter the password\n",
    "password_input = driver.find_element_by_id(\"session_password\")\n",
    "password_input.send_keys(password)\n",
    "\n",
    "# Find the sign in button and click it\n",
    "sign_in_button = driver.find_element_by_class_name(\"sign-in-form__submit-button\")\n",
    "sign_in_button.click()\n",
    "\n",
    "# Wait for the page to load\n",
    "time.sleep(5)\n",
    "\n"
   ]
  },
  {
   "cell_type": "code",
   "execution_count": null,
   "id": "8b08b256",
   "metadata": {},
   "outputs": [],
   "source": [
    "# Find the search input element and enter the name to search for\n",
    "search_input = driver.find_element_by_class_name(\"search-global-typeahead__input\")\n",
    "search_input.send_keys(f\"{first_name} {last_name}\")\n",
    "\n",
    "# Press the enter key to submit the search\n",
    "search_input.send_keys(Keys.RETURN)\n",
    "\n",
    "# Wait for the page to load\n",
    "time.sleep(5)\n",
    "\n",
    "# Parse the page source as HTML using BeautifulSoup\n",
    "soup = BeautifulSoup(driver.page_source, \"html.parser\")\n",
    "\n",
    "# Find all the elements that contain the user's name\n",
    "name_elements = soup.find_all(\"span\", class_=\"entity-result__title-text\")\n",
    "\n",
    "# Create a list to store the results\n",
    "results = []\n",
    "\n",
    "# Loop through only the first 5 name elements using slicing\n",
    "for name_element in name_elements[0:5]:\n",
    "    # Get the text of the element and split it by whitespace\n",
    "    name_text = name_element.get_text().split()\n",
    "\n",
    "    # Check if the text contains at least two words (first name and last name)\n",
    "    if len(name_text) >= 2:\n",
    "        # Get the first word as the first name and the second word as the last name\n",
    "        first_name = name_text[0]\n",
    "        last_name = name_text[1]\n",
    "\n",
    "        # Append the result to the list\n",
    "        results.append([first_name, last_name])\n",
    "\n",
    "\n"
   ]
  },
  {
   "cell_type": "code",
   "execution_count": null,
   "id": "eed24a2d",
   "metadata": {},
   "outputs": [],
   "source": [
    "# Create a CSV file to store the results\n",
    "with open(\"results.csv\", \"w\", newline=\"\") as file:\n",
    "    # Create a CSV writer object\n",
    "    writer = csv.writer(file)\n",
    "\n",
    "    # Write the header row\n",
    "    writer.writerow([\"First Name\", \"Last Name\"])\n",
    "\n",
    "    # Write the results rows\n",
    "    writer.writerows(results)\n",
    "\n",
    "# Print a success message\n",
    "print(\"The results have been saved in results.csv\")\n",
    "\n",
    "driver.quit()"
   ]
  }
 ],
 "metadata": {
  "kernelspec": {
   "display_name": "Python 3 (ipykernel)",
   "language": "python",
   "name": "python3"
  },
  "language_info": {
   "codemirror_mode": {
    "name": "ipython",
    "version": 3
   },
   "file_extension": ".py",
   "mimetype": "text/x-python",
   "name": "python",
   "nbconvert_exporter": "python",
   "pygments_lexer": "ipython3",
   "version": "3.9.12"
  }
 },
 "nbformat": 4,
 "nbformat_minor": 5
}
